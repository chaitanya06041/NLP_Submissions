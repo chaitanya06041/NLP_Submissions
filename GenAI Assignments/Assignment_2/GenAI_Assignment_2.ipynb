{
 "cells": [
  {
   "cell_type": "code",
   "execution_count": 1,
   "metadata": {},
   "outputs": [
    {
     "name": "stdout",
     "output_type": "stream",
     "text": [
      "WARNING:tensorflow:From C:\\Users\\chait\\AppData\\Roaming\\Python\\Python311\\site-packages\\keras\\src\\losses.py:2976: The name tf.losses.sparse_softmax_cross_entropy is deprecated. Please use tf.compat.v1.losses.sparse_softmax_cross_entropy instead.\n",
      "\n"
     ]
    }
   ],
   "source": [
    "from transformers import pipeline"
   ]
  },
  {
   "cell_type": "code",
   "execution_count": 2,
   "metadata": {},
   "outputs": [
    {
     "name": "stderr",
     "output_type": "stream",
     "text": [
      "Device set to use cuda:0\n"
     ]
    }
   ],
   "source": [
    "model = pipeline(\"text-generation\", model=\"gpt2\")"
   ]
  },
  {
   "cell_type": "code",
   "execution_count": 3,
   "metadata": {},
   "outputs": [],
   "source": [
    "problem_statement = \"How can a company improve its customer satisfaction?\""
   ]
  },
  {
   "cell_type": "markdown",
   "metadata": {},
   "source": [
    "# 1. Interview Approach"
   ]
  },
  {
   "cell_type": "code",
   "execution_count": 4,
   "metadata": {},
   "outputs": [
    {
     "name": "stderr",
     "output_type": "stream",
     "text": [
      "Truncation was not explicitly activated but `max_length` is provided a specific value, please use `truncation=True` to explicitly truncate examples to max length. Defaulting to 'longest_first' truncation strategy. If you encode pairs of sequences (GLUE-style) with the tokenizer you can select this strategy more precisely by providing a specific strategy to `truncation`.\n",
      "Setting `pad_token_id` to `eos_token_id`:50256 for open-end generation.\n",
      "C:\\Users\\chait\\AppData\\Roaming\\Python\\Python311\\site-packages\\transformers\\integrations\\sdpa_attention.py:53: UserWarning: 1Torch was not compiled with flash attention. (Triggered internally at C:\\actions-runner\\_work\\pytorch\\pytorch\\builder\\windows\\pytorch\\aten\\src\\ATen\\native\\transformers\\cuda\\sdp_utils.cpp:555.)\n",
      "  attn_output = torch.nn.functional.scaled_dot_product_attention(\n"
     ]
    }
   ],
   "source": [
    "interview_prompt = (\n",
    "    \"You are an experienced business consultant. Answer the following question as if you were explaining it in an interview format: \"\n",
    "    + problem_statement\n",
    ")\n",
    "interview_response = model(interview_prompt, max_length=100, num_return_sequences=1)\n"
   ]
  },
  {
   "cell_type": "code",
   "execution_count": 9,
   "metadata": {},
   "outputs": [
    {
     "name": "stdout",
     "output_type": "stream",
     "text": [
      "--- Interview Approach ---\n",
      "You are an experienced business consultant. Answer the following question as if you were explaining it in an interview format: How can a company improve its customer satisfaction? How can a product improve its effectiveness?\n",
      "\n",
      "If you have already answered this question, you have no business need. That's the answer your business needs to be giving to your own customers.\n",
      "\n",
      "What You Should Do Now\n",
      "\n",
      "To ensure your customer satisfaction, there are multiple business practices you can learn from. These include making sure your\n"
     ]
    }
   ],
   "source": [
    "print(\"--- Interview Approach ---\")\n",
    "print(interview_response[0]['generated_text'])"
   ]
  },
  {
   "cell_type": "markdown",
   "metadata": {},
   "source": [
    "# 2. Chain-of-Thought (COT) Approach"
   ]
  },
  {
   "cell_type": "code",
   "execution_count": 5,
   "metadata": {},
   "outputs": [
    {
     "name": "stderr",
     "output_type": "stream",
     "text": [
      "Setting `pad_token_id` to `eos_token_id`:50256 for open-end generation.\n"
     ]
    }
   ],
   "source": [
    "cot_prompt = (\n",
    "    \"Think step-by-step about how a company can improve customer satisfaction. First, analyze the problem, then identify key areas of improvement, and finally suggest actionable recommendations. \"\n",
    "    + problem_statement\n",
    ")\n",
    "cot_response = model(cot_prompt, max_length=150, num_return_sequences=1)"
   ]
  },
  {
   "cell_type": "code",
   "execution_count": 10,
   "metadata": {},
   "outputs": [
    {
     "name": "stdout",
     "output_type": "stream",
     "text": [
      "\n",
      "--- Chain-of-Thought (COT) Approach ---\n",
      "Think step-by-step about how a company can improve customer satisfaction. First, analyze the problem, then identify key areas of improvement, and finally suggest actionable recommendations. How can a company improve its customer satisfaction? What kind of person will do it? Find key problems. Then, use those critical moments to get some tangible information that will help you make a meaningful difference — or at least change your mind.\n",
      "\n",
      "3. Identify what the problem is that you believe is important, and think through all your opportunities and ask questions. Ask difficult and challenging questions. When people are faced with this question, ask them why they believe it doesn't matter much when they're asked that question. Ask what people think about it. Give you a\n"
     ]
    }
   ],
   "source": [
    "print(\"\\n--- Chain-of-Thought (COT) Approach ---\")\n",
    "print(cot_response[0]['generated_text'])"
   ]
  },
  {
   "cell_type": "markdown",
   "metadata": {},
   "source": [
    "# 3. Tree-of-Thought (TOT) Approach"
   ]
  },
  {
   "cell_type": "code",
   "execution_count": 6,
   "metadata": {},
   "outputs": [
    {
     "name": "stderr",
     "output_type": "stream",
     "text": [
      "Setting `pad_token_id` to `eos_token_id`:50256 for open-end generation.\n"
     ]
    }
   ],
   "source": [
    "tot_prompt = (\n",
    "    \"Break down the problem into different aspects: product quality, customer service, and feedback management. For each, explore possible improvements. \"\n",
    "    + problem_statement\n",
    ")\n",
    "tot_response = model(tot_prompt, max_length=200, num_return_sequences=1)"
   ]
  },
  {
   "cell_type": "code",
   "execution_count": 11,
   "metadata": {},
   "outputs": [
    {
     "name": "stdout",
     "output_type": "stream",
     "text": [
      "\n",
      "--- Tree-of-Thought (TOT) Approach ---\n",
      "Break down the problem into different aspects: product quality, customer service, and feedback management. For each, explore possible improvements. How can a company improve its customer satisfaction? How can it improve the quality of its products? How can you create better customer relationships?\n",
      "\n",
      "This book presents some more information about product quality and customer service, focusing on the critical factors of marketing and customer engagement: how to be more effective, how to be more effective at improving service levels and performance, how to be more effective at getting the right word across the board, and how to get more data to understand and use the insights gained. This is the kind of book that will take you to the business and to Wall Street.\n"
     ]
    }
   ],
   "source": [
    "print(\"\\n--- Tree-of-Thought (TOT) Approach ---\")\n",
    "print(tot_response[0]['generated_text'])"
   ]
  },
  {
   "cell_type": "markdown",
   "metadata": {},
   "source": [
    "# 4. Zero-Shot Prompting"
   ]
  },
  {
   "cell_type": "code",
   "execution_count": 7,
   "metadata": {},
   "outputs": [
    {
     "name": "stderr",
     "output_type": "stream",
     "text": [
      "Setting `pad_token_id` to `eos_token_id`:50256 for open-end generation.\n"
     ]
    }
   ],
   "source": [
    "zero_shot_prompt = problem_statement\n",
    "zero_shot_response = model(zero_shot_prompt, max_length=50, num_return_sequences=1)"
   ]
  },
  {
   "cell_type": "code",
   "execution_count": 12,
   "metadata": {},
   "outputs": [
    {
     "name": "stdout",
     "output_type": "stream",
     "text": [
      "\n",
      "--- Zero-Shot Prompting ---\n",
      "How can a company improve its customer satisfaction? The answer is straightforward. While the customer is probably not going to give back their money back from your product at all, the company may take control of it completely and make it less likely that you'll ever\n"
     ]
    }
   ],
   "source": [
    "print(\"\\n--- Zero-Shot Prompting ---\")\n",
    "print(zero_shot_response[0]['generated_text'])"
   ]
  },
  {
   "cell_type": "markdown",
   "metadata": {},
   "source": [
    "# 5. Few-Shot Prompting"
   ]
  },
  {
   "cell_type": "code",
   "execution_count": 8,
   "metadata": {},
   "outputs": [
    {
     "name": "stderr",
     "output_type": "stream",
     "text": [
      "Setting `pad_token_id` to `eos_token_id`:50256 for open-end generation.\n"
     ]
    }
   ],
   "source": [
    "few_shot_prompt = (\n",
    "    \"Example 1: A restaurant improved customer satisfaction by focusing on service quality and cleanliness.\\n\"\n",
    "    \"Example 2: A software company improved customer satisfaction by addressing user feedback promptly.\\n\"\n",
    "    \"Now answer the following question: \"\n",
    "    + problem_statement\n",
    ")\n",
    "few_shot_response = model(few_shot_prompt, max_length=100, num_return_sequences=1)"
   ]
  },
  {
   "cell_type": "code",
   "execution_count": 13,
   "metadata": {},
   "outputs": [
    {
     "name": "stdout",
     "output_type": "stream",
     "text": [
      "\n",
      "--- Few-Shot Prompting ---\n",
      "Example 1: A restaurant improved customer satisfaction by focusing on service quality and cleanliness.\n",
      "Example 2: A software company improved customer satisfaction by addressing user feedback promptly.\n",
      "Now answer the following question: How can a company improve its customer satisfaction?\n",
      "Why is a company such a success when the result is better customer satisfaction? As you will see in the next section, a company has to change its methodology to become an average company, and thus take on new customers by moving people to other services more\n"
     ]
    }
   ],
   "source": [
    "print(\"\\n--- Few-Shot Prompting ---\")\n",
    "print(few_shot_response[0]['generated_text'])"
   ]
  }
 ],
 "metadata": {
  "kernelspec": {
   "display_name": "Python 3",
   "language": "python",
   "name": "python3"
  },
  "language_info": {
   "codemirror_mode": {
    "name": "ipython",
    "version": 3
   },
   "file_extension": ".py",
   "mimetype": "text/x-python",
   "name": "python",
   "nbconvert_exporter": "python",
   "pygments_lexer": "ipython3",
   "version": "3.11.2"
  }
 },
 "nbformat": 4,
 "nbformat_minor": 2
}
