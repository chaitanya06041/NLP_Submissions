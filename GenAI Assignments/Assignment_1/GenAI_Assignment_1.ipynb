{
 "cells": [
  {
   "cell_type": "code",
   "execution_count": 1,
   "metadata": {},
   "outputs": [],
   "source": [
    "import random\n",
    "from collections import defaultdict"
   ]
  },
  {
   "cell_type": "code",
   "execution_count": 2,
   "metadata": {},
   "outputs": [],
   "source": [
    "import random\n",
    "from collections import defaultdict\n",
    "\n",
    "def build_markov_chain(text, n=2):\n",
    "    \"\"\"\n",
    "    Build a Markov chain from the given text.\n",
    "\n",
    "    Args:\n",
    "        text (str): Input text to build the chain from.\n",
    "        n (int): The size of the n-grams (default is 2).\n",
    "\n",
    "    Returns:\n",
    "        dict: A dictionary representing the Markov chain.\n",
    "    \"\"\"\n",
    "    words = text.split()\n",
    "    markov_chain = defaultdict(list)\n",
    "\n",
    "    for i in range(len(words) - n):\n",
    "        key = tuple(words[i:i + n])\n",
    "        next_word = words[i + n]\n",
    "        markov_chain[key].append(next_word)\n",
    "\n",
    "    return markov_chain"
   ]
  },
  {
   "cell_type": "code",
   "execution_count": 3,
   "metadata": {},
   "outputs": [],
   "source": [
    "def generate_text(chain, n=2, max_words=50):\n",
    "    \"\"\"\n",
    "    Generate text using the Markov chain.\n",
    "\n",
    "    Args:\n",
    "        chain (dict): The Markov chain.\n",
    "        n (int): The size of the n-grams (default is 2).\n",
    "        max_words (int): Maximum number of words to generate.\n",
    "\n",
    "    Returns:\n",
    "        str: Generated text.\n",
    "    \"\"\"\n",
    "    # Start with a random key from the chain\n",
    "    start_key = random.choice(list(chain.keys()))\n",
    "    generated_words = list(start_key)\n",
    "\n",
    "    for _ in range(max_words - n):\n",
    "        key = tuple(generated_words[-n:])\n",
    "        if key in chain:\n",
    "            next_word = random.choice(chain[key])\n",
    "            generated_words.append(next_word)\n",
    "        else:\n",
    "            break\n",
    "\n",
    "    return ' '.join(generated_words)"
   ]
  },
  {
   "cell_type": "code",
   "execution_count": 6,
   "metadata": {},
   "outputs": [
    {
     "name": "stdout",
     "output_type": "stream",
     "text": [
      "Generated Text:\n",
      "that undergo transitions from one state to another on a random process characterized by the Markov chains are a random process characterized by the Markov chains are a mathematical system that undergo transitions from one state space. It is a\n"
     ]
    }
   ],
   "source": [
    "if __name__ == \"__main__\":\n",
    "    # Example input text\n",
    "    input_text = (\n",
    "        \"Markov chains are a mathematical system that undergo transitions \"\n",
    "        \"from one state to another on a state space. It is a random process \"\n",
    "        \"characterized by the Markov property.\"\n",
    "    )\n",
    "    n = 1  # You can experiment with different n-gram sizes\n",
    "    chain = build_markov_chain(input_text, n)\n",
    "\n",
    "    # Generate text\n",
    "    generated_text = generate_text(chain, n, max_words=40)\n",
    "    print(\"Generated Text:\")\n",
    "    print(generated_text)"
   ]
  }
 ],
 "metadata": {
  "kernelspec": {
   "display_name": "Python 3",
   "language": "python",
   "name": "python3"
  },
  "language_info": {
   "codemirror_mode": {
    "name": "ipython",
    "version": 3
   },
   "file_extension": ".py",
   "mimetype": "text/x-python",
   "name": "python",
   "nbconvert_exporter": "python",
   "pygments_lexer": "ipython3",
   "version": "3.11.2"
  }
 },
 "nbformat": 4,
 "nbformat_minor": 2
}
