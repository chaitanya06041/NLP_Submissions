{
 "cells": [
  {
   "cell_type": "code",
   "execution_count": 1,
   "metadata": {},
   "outputs": [
    {
     "name": "stdout",
     "output_type": "stream",
     "text": [
      "WARNING:tensorflow:From C:\\Users\\chait\\AppData\\Roaming\\Python\\Python311\\site-packages\\keras\\src\\losses.py:2976: The name tf.losses.sparse_softmax_cross_entropy is deprecated. Please use tf.compat.v1.losses.sparse_softmax_cross_entropy instead.\n",
      "\n"
     ]
    }
   ],
   "source": [
    "from transformers import pipeline"
   ]
  },
  {
   "cell_type": "code",
   "execution_count": 5,
   "metadata": {},
   "outputs": [
    {
     "name": "stderr",
     "output_type": "stream",
     "text": [
      "No model was supplied, defaulted to distilbert/distilbert-base-cased-distilled-squad and revision 564e9b5 (https://huggingface.co/distilbert/distilbert-base-cased-distilled-squad).\n",
      "Using a pipeline without specifying a model name and revision in production is not recommended.\n",
      "Device set to use cuda:0\n"
     ]
    }
   ],
   "source": [
    "qa_pipeline = pipeline(\"question-answering\")\n",
    "\n",
    "def answer_question(context, question):\n",
    "  \"\"\"\n",
    "  Answers a question based on a given context using a pre-trained model.\n",
    "\n",
    "  Args:\n",
    "    context: The text context where the answer can be found.\n",
    "    question: The question to be answered.\n",
    "\n",
    "  Returns:\n",
    "    The answer to the question, or a message indicating no answer was found.\n",
    "  \"\"\"\n",
    "  try:\n",
    "    result = qa_pipeline(question=question, context=context)\n",
    "    if result['score'] > 0.1:\n",
    "      return result['answer']\n",
    "    else:\n",
    "      return \"I'm sorry, I couldn't find an answer to that question in the given context.\"\n",
    "\n",
    "  except Exception as e:\n",
    "    print(f\"An error occurred: {e}\")\n",
    "    return \"Sorry, an error occurred while processing your question.\""
   ]
  },
  {
   "cell_type": "code",
   "execution_count": 7,
   "metadata": {},
   "outputs": [],
   "source": [
    "context = \"\"\"\n",
    "The Amazon rainforest, also known in English as Amazonia or the Amazon Jungle,\n",
    "is a moist broadleaf tropical rainforest in the Amazon biome that covers\n",
    "most of the Amazon basin of South America. This basin encompasses 7,000,000\n",
    "square kilometres (2,700,000 sq mi), of which 5,500,000 square kilometres\n",
    "(2,100,000 sq mi) are covered by the rainforest. This region includes territory\n",
    "belonging to nine nations and 3,344 formally acknowledged indigenous\n",
    "territories and 600 unacknowledged. The majority of the forest is contained\n",
    "within Brazil, with 60% of the rainforest, followed by Peru with 13%, Colombia\n",
    "with 10%, and with minor amounts in Venezuela, Ecuador, Bolivia, Guyana,\n",
    "Suriname and French Guiana. States or departments in four nations contain\n",
    "\"Amazonas\" in their names.\n",
    "\"\"\""
   ]
  },
  {
   "cell_type": "code",
   "execution_count": 8,
   "metadata": {},
   "outputs": [
    {
     "name": "stdout",
     "output_type": "stream",
     "text": [
      "Question: What is the Amazon rainforest also known as?\n",
      "Answer: Amazonia or the Amazon Jungle\n",
      "Question: Which country contains 60% of the rainforest?\n",
      "Answer: Brazil\n",
      "Question: What is the weather like in the Amazon?\n",
      "Answer: moist\n",
      "Question: What is the capital of Brazil?\n",
      "Answer: Peru\n"
     ]
    }
   ],
   "source": [
    "question1 = \"What is the Amazon rainforest also known as?\"\n",
    "answer1 = answer_question(context, question1)\n",
    "print(f\"Question: {question1}\")\n",
    "print(f\"Answer: {answer1}\")\n",
    "\n",
    "question2 = \"Which country contains 60% of the rainforest?\"\n",
    "answer2 = answer_question(context, question2)\n",
    "print(f\"Question: {question2}\")\n",
    "print(f\"Answer: {answer2}\")\n",
    "\n",
    "question3 = \"What is the weather like in the Amazon?\"\n",
    "answer3 = answer_question(context, question3)\n",
    "print(f\"Question: {question3}\")\n",
    "print(f\"Answer: {answer3}\")\n",
    "\n",
    "question4 = \"What is the capital of Brazil?\"\n",
    "answer4 = answer_question(context, question4)\n",
    "print(f\"Question: {question4}\")\n",
    "print(f\"Answer: {answer4}\")\n"
   ]
  }
 ],
 "metadata": {
  "kernelspec": {
   "display_name": "Python 3",
   "language": "python",
   "name": "python3"
  },
  "language_info": {
   "codemirror_mode": {
    "name": "ipython",
    "version": 3
   },
   "file_extension": ".py",
   "mimetype": "text/x-python",
   "name": "python",
   "nbconvert_exporter": "python",
   "pygments_lexer": "ipython3",
   "version": "3.11.2"
  }
 },
 "nbformat": 4,
 "nbformat_minor": 2
}
